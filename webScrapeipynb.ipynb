{
 "cells": [
  {
   "cell_type": "code",
   "execution_count": 6,
   "metadata": {},
   "outputs": [],
   "source": [
    "import requests\n",
    "import pandas as pd\n",
    "import csv\n",
    "from bs4 import BeautifulSoup\n",
    "import urllib\n",
    "import numpy as np"
   ]
  },
  {
   "cell_type": "code",
   "execution_count": 2,
   "metadata": {},
   "outputs": [],
   "source": [
    "#Pasang url yang diinginkan disini\n",
    "url='http://www.unsri.ac.id/?act=detil_transkrip_mahasiswa&mhs=09011281722052-9-10003&akt=2017'"
   ]
  },
  {
   "cell_type": "code",
   "execution_count": 3,
   "metadata": {},
   "outputs": [],
   "source": [
    "html=urllib.request.urlopen(url).read()"
   ]
  },
  {
   "cell_type": "code",
   "execution_count": 62,
   "metadata": {},
   "outputs": [],
   "source": [
    "#Bobot Nilai\n",
    "A='A'\n",
    "B='B'\n",
    "C='C'\n",
    "D='D'\n",
    "E='E'\n",
    "F='F'\n",
    "vars()[A]=4\n",
    "vars()[B]=3\n",
    "vars()[C]=2\n",
    "vars()[D]=1\n",
    "vars()[E]=0\n",
    "vars()[F]=np.nan"
   ]
  },
  {
   "cell_type": "code",
   "execution_count": 4,
   "metadata": {},
   "outputs": [],
   "source": [
    "soup=BeautifulSoup(html,'lxml')"
   ]
  },
  {
   "cell_type": "code",
   "execution_count": null,
   "metadata": {},
   "outputs": [],
   "source": []
  },
  {
   "cell_type": "code",
   "execution_count": 61,
   "metadata": {},
   "outputs": [],
   "source": [
    "My_table = soup.find('table',{'class':'table-common'})"
   ]
  },
  {
   "cell_type": "code",
   "execution_count": 70,
   "metadata": {},
   "outputs": [
    {
     "ename": "IndexError",
     "evalue": "list index out of range",
     "output_type": "error",
     "traceback": [
      "\u001b[1;31m---------------------------------------------------------------------------\u001b[0m",
      "\u001b[1;31mIndexError\u001b[0m                                Traceback (most recent call last)",
      "\u001b[1;32m<ipython-input-70-6224fe9a1215>\u001b[0m in \u001b[0;36m<module>\u001b[1;34m()\u001b[0m\n\u001b[0;32m      4\u001b[0m         \u001b[0mcells\u001b[0m\u001b[1;33m=\u001b[0m\u001b[0mrows\u001b[0m\u001b[1;33m.\u001b[0m\u001b[0mfindAll\u001b[0m\u001b[1;33m(\u001b[0m\u001b[1;34m'td'\u001b[0m\u001b[1;33m)\u001b[0m\u001b[1;33m\u001b[0m\u001b[0m\n\u001b[0;32m      5\u001b[0m         \u001b[0mKode\u001b[0m\u001b[1;33m=\u001b[0m\u001b[0mcells\u001b[0m\u001b[1;33m[\u001b[0m\u001b[1;36m2\u001b[0m\u001b[1;33m]\u001b[0m\u001b[1;33m.\u001b[0m\u001b[0mtext\u001b[0m\u001b[1;33m.\u001b[0m\u001b[0mstrip\u001b[0m\u001b[1;33m(\u001b[0m\u001b[1;33m)\u001b[0m\u001b[1;33m\u001b[0m\u001b[0m\n\u001b[1;32m----> 6\u001b[1;33m         \u001b[0mHM\u001b[0m\u001b[1;33m=\u001b[0m\u001b[0mcells\u001b[0m\u001b[1;33m[\u001b[0m\u001b[1;36m3\u001b[0m\u001b[1;33m]\u001b[0m\u001b[1;33m.\u001b[0m\u001b[0mtext\u001b[0m\u001b[1;33m.\u001b[0m\u001b[0mstrip\u001b[0m\u001b[1;33m(\u001b[0m\u001b[1;33m)\u001b[0m\u001b[1;33m\u001b[0m\u001b[0m\n\u001b[0m\u001b[0;32m      7\u001b[0m         \u001b[0mK\u001b[0m\u001b[1;33m=\u001b[0m\u001b[0mcells\u001b[0m\u001b[1;33m[\u001b[0m\u001b[1;36m5\u001b[0m\u001b[1;33m]\u001b[0m\u001b[1;33m.\u001b[0m\u001b[0mtext\u001b[0m\u001b[1;33m.\u001b[0m\u001b[0mstrip\u001b[0m\u001b[1;33m(\u001b[0m\u001b[1;33m)\u001b[0m\u001b[1;33m\u001b[0m\u001b[0m\n\u001b[0;32m      8\u001b[0m         \u001b[0mdata\u001b[0m\u001b[1;33m=\u001b[0m\u001b[1;33m{\u001b[0m\u001b[1;34m'MK'\u001b[0m\u001b[1;33m:\u001b[0m\u001b[0mKode\u001b[0m\u001b[1;33m,\u001b[0m\u001b[1;34m'HM'\u001b[0m\u001b[1;33m:\u001b[0m\u001b[0mHM\u001b[0m\u001b[1;33m,\u001b[0m\u001b[1;34m'K'\u001b[0m\u001b[1;33m:\u001b[0m\u001b[0mK\u001b[0m\u001b[1;33m}\u001b[0m\u001b[1;33m\u001b[0m\u001b[0m\n",
      "\u001b[1;31mIndexError\u001b[0m: list index out of range"
     ]
    }
   ],
   "source": [
    "Nilai=[]\n",
    "for rows in My_table.findAll('tr'):\n",
    "    if not rows.find_all('th'):\n",
    "        cells=rows.findAll('td')\n",
    "        Kode=cells[2].text.strip()\n",
    "        HM=cells[3].text.strip()\n",
    "        K=cells[5].text.strip()\n",
    "        data={'MK':Kode,'HM':HM,'K':K}\n",
    "        Nilai.append(data)"
   ]
  },
  {
   "cell_type": "code",
   "execution_count": 71,
   "metadata": {},
   "outputs": [],
   "source": [
    "Efan=pd.DataFrame(Nilai)"
   ]
  },
  {
   "cell_type": "code",
   "execution_count": 72,
   "metadata": {},
   "outputs": [
    {
     "name": "stdout",
     "output_type": "stream",
     "text": [
      "   HM  K                                           MK\n",
      "0   A  2                               BAHASA INGGRIS\n",
      "1   A  3                    PENGANTAR TEKNIK KOMPUTER\n",
      "2   B  3                     PENGANTAR TELEKOMUNIKASI\n",
      "3   A  3                                   KALKULUS I\n",
      "4   C  4                                       FISIKA\n",
      "5   A  3                                  KALKULUS II\n",
      "6   B  2                           DESAIN DAN INOVASI\n",
      "7   B  4                  ALGORITMA DAN PEMROGRAMAN I\n",
      "8   B  2            PEMROGRAMAN BERORIENTASI HARDWARE\n",
      "9   B  3                          ORGANISASI KOMPUTER\n",
      "10  A  1        PRAKTIKUM ALGORITMA DAN PEMROGRAMAN I\n",
      "11  A  1  PRAKTIKUM PEMROGRAMAN BERORIENTASI HARDWARE\n",
      "12  A  1                           PRAKTIKUM FISIKA I\n",
      "13  A  4                 ALGORITMA DAN PEMROGRAMAN II\n",
      "14  A  3                           MATEMATIKA DISKRIT\n",
      "15  A  3                               ALJABAR LINEAR\n",
      "16  A  3                            RANGKAIAN DIGITAL\n",
      "17  A  3                          ARSITEKTUR KOMPUTER\n",
      "18  B  3                   PROBABILITAS DAN STATISTIK\n",
      "19  A  1       PRAKTIKUM ALGORITMA DAN PEMROGRAMAN II\n",
      "20  A  1                  PRAKTIKUM RANGKAIAN DIGITAL\n",
      "21  A  3                            RANGKAIAN LISTRIK\n",
      "22  A  3                               SISTEM OPERASI\n",
      "23  B  3                            ELEKTRONIKA DASAR\n",
      "24  B  2                     REKAYASA PERANGKAT LUNAK\n",
      "25  B  3                              KOMUNIKASI DATA\n",
      "26  B  2                             MANAJEMEN PROYEK\n",
      "27  A  1                  PRAKTIKUM ELEKTRONIKA DASAR\n",
      "28  A  1                  PRAKTIKUM RANGKAIAN LISTRIK\n",
      "29  B  1                     PRAKTIKUM SISTEM OPERASI\n",
      "30  F  3                           PEMROSESAN PARALEL\n",
      "31  F  3                            KECERDASAN BUATAN\n",
      "32  F  3                            SINYAL DAN SISTEM\n",
      "33  F  2                               BAHASA RAKITAN\n",
      "34  F  3                            JARINGAN KOMPUTER\n",
      "35  F  3                           SISTEM WAKTU NYATA\n",
      "36  F  1                  PRAKTIKUM JARINGAN KOMPUTER\n",
      "37  F  1                     PRAKTIKUM BAHASA RAKITAN\n",
      "38  F  1                  PRAKTIKUM KECERDASAN BUATAN\n",
      "39  C  3                    PENGOLAHAN SIGNAL DIGITAL\n",
      "40  A  3                       JARINGAN SYARAF TIRUAN\n",
      "41  D  2                                KEWIRAUSAHAAN\n",
      "42  A  2                             PENDIDIKAN AGAMA\n",
      "43  A  2                   PENDIDIKAN KEWARGANEGARAAN\n",
      "44  A  2                             BAHASA INDONESIA\n",
      "45  B  2                                    PANCASILA\n"
     ]
    }
   ],
   "source": [
    "print(Efan)"
   ]
  },
  {
   "cell_type": "code",
   "execution_count": 69,
   "metadata": {},
   "outputs": [
    {
     "data": {
      "text/plain": [
       "0     A\n",
       "1     A\n",
       "2     B\n",
       "3     A\n",
       "4     C\n",
       "5     A\n",
       "6     B\n",
       "7     B\n",
       "8     B\n",
       "9     B\n",
       "10    A\n",
       "11    A\n",
       "12    A\n",
       "13    A\n",
       "14    A\n",
       "15    A\n",
       "16    A\n",
       "17    A\n",
       "18    B\n",
       "19    A\n",
       "20    A\n",
       "21    A\n",
       "22    A\n",
       "23    B\n",
       "24    B\n",
       "25    B\n",
       "26    B\n",
       "27    A\n",
       "28    A\n",
       "29    B\n",
       "30    F\n",
       "31    F\n",
       "32    F\n",
       "33    F\n",
       "34    F\n",
       "35    F\n",
       "36    F\n",
       "37    F\n",
       "38    F\n",
       "39    C\n",
       "40    A\n",
       "41    D\n",
       "42    A\n",
       "43    A\n",
       "44    A\n",
       "45    B\n",
       "Name: HM, dtype: object"
      ]
     },
     "execution_count": 69,
     "metadata": {},
     "output_type": "execute_result"
    }
   ],
   "source": [
    "Efan.HM"
   ]
  },
  {
   "cell_type": "code",
   "execution_count": null,
   "metadata": {},
   "outputs": [],
   "source": []
  }
 ],
 "metadata": {
  "file_extension": ".py",
  "kernelspec": {
   "display_name": "Python 3",
   "language": "python",
   "name": "python3"
  },
  "language_info": {
   "codemirror_mode": {
    "name": "ipython",
    "version": 3
   },
   "file_extension": ".py",
   "mimetype": "text/x-python",
   "name": "python",
   "nbconvert_exporter": "python",
   "pygments_lexer": "ipython3",
   "version": "3.6.5"
  },
  "mimetype": "text/x-python",
  "name": "python",
  "npconvert_exporter": "python",
  "pygments_lexer": "ipython3",
  "version": 3
 },
 "nbformat": 4,
 "nbformat_minor": 2
}
